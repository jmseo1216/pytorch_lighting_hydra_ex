{
 "cells": [
  {
   "cell_type": "markdown",
   "metadata": {},
   "source": [
    "## Data set"
   ]
  },
  {
   "cell_type": "code",
   "execution_count": 1,
   "metadata": {},
   "outputs": [],
   "source": [
    "import matplotlib.pyplot as plt # 시각화를 위한 라이브러리\n",
    "\n",
    "import torch # PyTorch 라이브러리\n",
    "import torch.nn as nn # 모델 구성을 위한 라이브러리\n",
    "import torch.nn.functional as F\n",
    "import torch.optim as optim\n",
    "\n",
    "import numpy as np\n",
    "import matplotlib.pyplot as plt\n",
    "\n",
    "from torch.utils.data import DataLoader # optimizer 설정을 위한 라이브러리\n",
    "\n",
    "import torchvision # PyTorch의 컴퓨터 비전 라이브러리\n",
    "import torchvision.transforms as T # 이미지 변환을 위한 모듈\n",
    "import torchvision.utils as vutils # 이미지를 쉽게 처리하기 위한 유틸리티 모듈\n",
    "\n",
    "import random"
   ]
  },
  {
   "cell_type": "code",
   "execution_count": 2,
   "metadata": {},
   "outputs": [],
   "source": [
    " # seed 고정\n",
    "import random\n",
    "import torch.backends.cudnn as cudnn\n",
    "\n",
    "def random_seed(seed_num):\n",
    "    torch.manual_seed(seed_num)\n",
    "    torch.cuda.manual_seed(seed_num)\n",
    "    torch.cuda.manual_seed_all(seed_num)\n",
    "    np.random.seed(seed_num)\n",
    "    cudnn.benchmark = False\n",
    "    cudnn.deterministic = True\n",
    "    random.seed(seed_num)\n",
    "\n",
    "random_seed(42)"
   ]
  },
  {
   "cell_type": "code",
   "execution_count": 4,
   "metadata": {},
   "outputs": [],
   "source": [
    "transform_train = T.Compose([\n",
    "    T.Resize(224),\n",
    "    T.ToTensor(),\n",
    "    T.Normalize((0.5, 0.5, 0.5), (0.5, 0.5, 0.5))\n",
    "])\n",
    "\n",
    "transform_valid = T.Compose([\n",
    "    T.Resize(224),\n",
    "    T.ToTensor(),\n",
    "    T.Normalize((0.5, 0.5, 0.5), (0.5, 0.5, 0.5))                          \n",
    "])"
   ]
  },
  {
   "cell_type": "code",
   "execution_count": 5,
   "metadata": {},
   "outputs": [
    {
     "name": "stdout",
     "output_type": "stream",
     "text": [
      "Downloading https://www.cs.toronto.edu/~kriz/cifar-10-python.tar.gz to ./data/cifar-10-python.tar.gz\n"
     ]
    },
    {
     "name": "stderr",
     "output_type": "stream",
     "text": [
      "100%|██████████| 170498071/170498071 [00:38<00:00, 4377194.23it/s]\n"
     ]
    },
    {
     "name": "stdout",
     "output_type": "stream",
     "text": [
      "Extracting ./data/cifar-10-python.tar.gz to ./data\n",
      "Files already downloaded and verified\n"
     ]
    }
   ],
   "source": [
    "root = './data'\n",
    "training_dataset = torchvision.datasets.CIFAR10(root=root, train=True, transform=transform_train, download=True)\n",
    "test_dataset = torchvision.datasets.CIFAR10(root=root, train=False, transform=transform_valid, download=True)\n"
   ]
  },
  {
   "cell_type": "code",
   "execution_count": 6,
   "metadata": {},
   "outputs": [
    {
     "name": "stdout",
     "output_type": "stream",
     "text": [
      "40000\n",
      "10000\n"
     ]
    }
   ],
   "source": [
    "num_train, num_val = int(len(training_dataset) * 0.8), int(len(training_dataset) * 0.2)\n",
    "train_dataset, valid_dataset = torch.utils.data.random_split(training_dataset, [num_train, num_val])\n",
    "print(len(train_dataset))\n",
    "print(len(valid_dataset))"
   ]
  },
  {
   "cell_type": "code",
   "execution_count": 7,
   "metadata": {},
   "outputs": [],
   "source": [
    "batch_size = 32\n",
    "train_dataloader = DataLoader(train_dataset, batch_size=batch_size, shuffle=True)\n",
    "valid_dataloader = DataLoader(valid_dataset, batch_size=batch_size, shuffle=False)\n",
    "test_dataloader = DataLoader(test_dataset, batch_size=batch_size, shuffle=False)"
   ]
  },
  {
   "cell_type": "markdown",
   "metadata": {},
   "source": [
    "## Pytorch lighting"
   ]
  },
  {
   "cell_type": "code",
   "execution_count": 8,
   "metadata": {},
   "outputs": [],
   "source": [
    "import torch\n",
    "import torch.nn as nn\n",
    "from pytorch_lightning import LightningModule, Trainer, LightningDataModule\n",
    "\n",
    "import torchmetrics"
   ]
  },
  {
   "cell_type": "code",
   "execution_count": 10,
   "metadata": {},
   "outputs": [],
   "source": [
    "class classifier(LightningModule):\n",
    "    def __init__(self, num_classes, dropout_ratio, lr=0.001):\n",
    "        super().__init__()\n",
    "        self.learning_rate = lr\n",
    "        self.accuracy = torchmetrics(task='multiclass', num_classes=num_classes)\n",
    "        self.criterion = nn.CrossEntropyLoss()\n",
    "        \n",
    "         \n",
    "        self.num_classes = num_classes\n",
    "        self.dropout_ratio = dropout_ratio\n",
    "        \n",
    "        self.layer = nn.Sequential(\n",
    "            nn.Conv2d(in_channels=3, out_channels=16, kernel_size=5),\n",
    "            nn.ReLU(),\n",
    "            nn.Conv2d(in_channels=16, out_channels=32, kernel_size=5),\n",
    "            nn.ReLU(),\n",
    "            nn.MaxPool2d(kernel_size=2),\n",
    "            nn.Dropout(self.dropout_ratio),\n",
    "            nn.Conv2d(in_channels=32, out_channels=64, kernel_size=5),\n",
    "            nn.ReLU(),\n",
    "            nn.MaxPool2d(kernel_size=2),\n",
    "            nn.Dropout(self.dropout_ratio),\n",
    "        )\n",
    "        \n",
    "        self.fc_layer = nn.Linear(1024,self.num_classes) \n",
    "        self.softmax = nn.LogSoftmax(dim=1)\n",
    "        \n",
    "        \n",
    "    def forward(self, x):\n",
    "        out = self.layer(x)\n",
    "        out = out.view(x.size(0), -1)\n",
    "        pred = self.fc_layer(out)\n",
    "        \n",
    "        return pred \n",
    "    \n",
    "    def configure_optimizers(self):\n",
    "        optimizer = optim.Adam(self.parameters(), lr=self.learning_rate)\n",
    "        scheduler = optim.lr_scheduler.StepLR(optimizer, step_size=1, gamma=0.9)\n",
    "        \n",
    "        return [optimizer], [scheduler]\n",
    "    \n",
    "    def training_step(self, batch, batch_idx):\n",
    "        images, labels = batch \n",
    "        \n",
    "        outputs = self(images)\n",
    "        \n",
    "        loss = self.criterion(outputs, labels)\n",
    "        acc = self.accuracy(outputs, labels)\n",
    "        self.log(\"train_loss\", loss, on_step=False, on_epoch=True, logger=True)\n",
    "        self.log(\"train_acc\", acc, on_step=False, on_epoch=True, logger=True) \n",
    "        return loss \n",
    "    \n",
    "    def validation_step(self, batch, batch_idx):\n",
    "        images, labels = batch\n",
    "        outputs = self(images)\n",
    "        loss = self.criterion(outputs, labels)\n",
    "        _, preds = torch.max(outputs, dim=1)\n",
    "        acc = self.accuracy(preds, labels)\n",
    "        \n",
    "        self.log(f\"valid_loss\", loss, on_step=False, on_epoch=True, logger=True)\n",
    "        self.log(f\"valid_acc\", acc ,on_step=False, on_epoch=True, logger=True) \n",
    "    \n",
    "    def test_step(self, batch, batch_idx):\n",
    "        images, labels = batch \n",
    "        outputs = self(images)\n",
    "        loss = self.criterion(outputs, labels)\n",
    "        _, preds = torch.max(outputs, dim=1)\n",
    "        acc = self.accuracy(preds, labels)\n",
    "        \n",
    "        self.log(f\"test_loss\", loss, on_step=False, on_epoch=True)\n",
    "        self.log(f\"test_acc\", acc, on_step=False, on_epoch=True)\n",
    "        \n",
    "    def predict_step(self, batch, batch_idx):\n",
    "        images, labels = batch \n",
    "        outputs = self(images)\n",
    "        _, preds = torch.max(outputs, dim=1)\n",
    "\n",
    "        return preds     "
   ]
  },
  {
   "cell_type": "code",
   "execution_count": null,
   "metadata": {},
   "outputs": [],
   "source": []
  }
 ],
 "metadata": {
  "kernelspec": {
   "display_name": "pytorch_env",
   "language": "python",
   "name": "python3"
  },
  "language_info": {
   "codemirror_mode": {
    "name": "ipython",
    "version": 3
   },
   "file_extension": ".py",
   "mimetype": "text/x-python",
   "name": "python",
   "nbconvert_exporter": "python",
   "pygments_lexer": "ipython3",
   "version": "3.11.7"
  }
 },
 "nbformat": 4,
 "nbformat_minor": 2
}
